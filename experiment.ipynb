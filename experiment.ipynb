{
 "cells": [
  {
   "cell_type": "markdown",
   "id": "about-heavy",
   "metadata": {},
   "source": [
    "## 0. Libarary 불러오기 및 경로설정"
   ]
  },
  {
   "cell_type": "code",
   "execution_count": 1,
   "id": "cubic-scoop",
   "metadata": {},
   "outputs": [
    {
     "name": "stderr",
     "output_type": "stream",
     "text": [
      "/data/ephemeral/home/jae-env/lib/python3.10/site-packages/tqdm/auto.py:21: TqdmWarning: IProgress not found. Please update jupyter and ipywidgets. See https://ipywidgets.readthedocs.io/en/stable/user_install.html\n",
      "  from .autonotebook import tqdm as notebook_tqdm\n"
     ]
    }
   ],
   "source": [
    "import torch\n",
    "from sklearn.metrics import confusion_matrix, recall_score, f1_score\n",
    "from tqdm import tqdm\n",
    "from importlib import import_module\n",
    "import multiprocessing\n",
    "from dataset import JayAugmentation"
   ]
  },
  {
   "cell_type": "code",
   "execution_count": 2,
   "id": "c57cc322",
   "metadata": {},
   "outputs": [],
   "source": [
    "data_dir = '/data/ephemeral/home/data/train/images'"
   ]
  },
  {
   "cell_type": "code",
   "execution_count": 3,
   "id": "22604746",
   "metadata": {},
   "outputs": [],
   "source": [
    "from dataset import MaskModelDataset\n",
    "\n",
    "dataset = MaskModelDataset(data_dir)\n",
    "class MyArg:\n",
    "    resize = [128, 96]\n",
    "\n",
    "transform = JayAugmentation(MyArg(), dataset)\n",
    "dataset.set_transform(transform)\n",
    "\n",
    "mask_loader = torch.utils.data.DataLoader(\n",
    "        dataset,\n",
    "        batch_size=20,\n",
    "        num_workers=multiprocessing.cpu_count() // 2,\n",
    "        shuffle=True,\n",
    "        pin_memory=torch.cuda.is_available(),\n",
    "        drop_last=False,\n",
    "    )"
   ]
  },
  {
   "cell_type": "code",
   "execution_count": 4,
   "id": "e3b4f34b",
   "metadata": {},
   "outputs": [
    {
     "name": "stderr",
     "output_type": "stream",
     "text": [
      "/data/ephemeral/home/jae-env/lib/python3.10/site-packages/torchvision/models/_utils.py:208: UserWarning: The parameter 'pretrained' is deprecated since 0.13 and will be removed in 0.15, please use 'weights' instead.\n",
      "  warnings.warn(\n",
      "/data/ephemeral/home/jae-env/lib/python3.10/site-packages/torchvision/models/_utils.py:223: UserWarning: Arguments other than a weight enum or `None` for 'weights' are deprecated since 0.13 and will be removed in 0.15. The current behavior is equivalent to passing `weights=ResNet34_Weights.IMAGENET1K_V1`. You can also use `weights=ResNet34_Weights.DEFAULT` to get the most up-to-date weights.\n",
      "  warnings.warn(msg)\n",
      "100%|██████████| 1/1 [00:05<00:00,  5.24s/it]\n"
     ]
    }
   ],
   "source": [
    "from models.mask_model import JayMaskModel\n",
    "\n",
    "model = JayMaskModel().cuda()\n",
    "\n",
    "model.eval()\n",
    "\n",
    "labels = []\n",
    "preds = []\n",
    "for epoch in tqdm(range(1)):\n",
    "    for index, batch in enumerate(mask_loader):\n",
    "        image, label = batch\n",
    "        image = image.cuda()\n",
    "        label = label.long().cuda()\n",
    "        labels.extend(label.cpu().numpy())\n",
    "        pred = model(image)\n",
    "        preds.extend(pred.cpu().numpy())\n",
    "        if index > 20:\n",
    "            break"
   ]
  },
  {
   "cell_type": "code",
   "execution_count": 5,
   "id": "df5d11a8",
   "metadata": {},
   "outputs": [
    {
     "name": "stdout",
     "output_type": "stream",
     "text": [
      "Recall: 0.9548784548784549\n",
      "f1: 0.924363093897032\n",
      "Confusion Matrix:\n",
      "[[290  18   0]\n",
      " [  0  60   5]\n",
      " [  0   0  67]]\n"
     ]
    }
   ],
   "source": [
    "recall = recall_score(labels, preds, average='macro')\n",
    "f1 = f1_score(labels, preds, average='macro')\n",
    "conf_matrix = confusion_matrix(labels, preds)\n",
    "\n",
    "print(\"Recall:\", recall)\n",
    "print(\"f1:\", f1)\n",
    "print(\"Confusion Matrix:\")\n",
    "print(conf_matrix)"
   ]
  },
  {
   "cell_type": "code",
   "execution_count": 11,
   "id": "838a90a0",
   "metadata": {},
   "outputs": [],
   "source": [
    "torch.save(model.state_dict(), './jay/mask_model_best.pth')"
   ]
  },
  {
   "cell_type": "code",
   "execution_count": null,
   "id": "26b3d26d",
   "metadata": {},
   "outputs": [],
   "source": []
  }
 ],
 "metadata": {
  "kernelspec": {
   "display_name": "Python 3",
   "language": "python",
   "name": "python3"
  },
  "language_info": {
   "codemirror_mode": {
    "name": "ipython",
    "version": 3
   },
   "file_extension": ".py",
   "mimetype": "text/x-python",
   "name": "python",
   "nbconvert_exporter": "python",
   "pygments_lexer": "ipython3",
   "version": "3.10.13"
  }
 },
 "nbformat": 4,
 "nbformat_minor": 5
}
