{
 "cells": [
  {
   "cell_type": "markdown",
   "id": "about-heavy",
   "metadata": {},
   "source": [
    "## 0. Libarary 불러오기 및 경로설정"
   ]
  },
  {
   "cell_type": "code",
   "execution_count": 41,
   "id": "cubic-scoop",
   "metadata": {},
   "outputs": [],
   "source": [
    "import os\n",
    "import random\n",
    "from collections import defaultdict\n",
    "from enum import Enum\n",
    "from typing import Tuple, List\n",
    "import torch.nn as nn\n",
    "import torch.nn.functional as F\n",
    "import torchvision.models as models\n",
    "import numpy as np\n",
    "import torch\n",
    "from sklearn.metrics import confusion_matrix, recall_score, f1_score\n",
    "from tqdm import tqdm\n",
    "import torch.optim as optim\n",
    "from PIL import Image\n",
    "import os\n",
    "from importlib import import_module\n",
    "from torch.utils.data import Dataset, Subset, random_split\n",
    "import multiprocessing\n",
    "from torchvision.transforms import (\n",
    "    Resize,\n",
    "    ToTensor,\n",
    "    Normalize,\n",
    "    Compose,\n",
    "    CenterCrop,\n",
    "    ColorJitter,\n",
    ")\n",
    "from dataset import BaseAugmentation"
   ]
  },
  {
   "cell_type": "code",
   "execution_count": 34,
   "id": "c57cc322",
   "metadata": {},
   "outputs": [],
   "source": [
    "data_dir = '/data/ephemeral/home/data/train/images'\n",
    "\n",
    "use_cuda = torch.cuda.is_available()\n",
    "device = torch.device(\"cuda\" if use_cuda else \"cpu\")"
   ]
  },
  {
   "cell_type": "code",
   "execution_count": 35,
   "id": "22604746",
   "metadata": {},
   "outputs": [],
   "source": [
    "from dataset import JayDataset1, MaskModelDataset\n",
    "\n",
    "dataset = MaskModelDataset(data_dir)\n",
    "class MyArg:\n",
    "    resize = [128, 96]\n",
    "\n",
    "transform = BaseAugmentation(MyArg(), dataset)\n",
    "dataset.set_transform(transform)\n",
    "\n",
    "mask_loader = torch.utils.data.DataLoader(\n",
    "        dataset,\n",
    "        batch_size=20,\n",
    "        num_workers=multiprocessing.cpu_count() // 2,\n",
    "        shuffle=True,\n",
    "        pin_memory=use_cuda,\n",
    "        drop_last=False,\n",
    "    )\n"
   ]
  },
  {
   "cell_type": "code",
   "execution_count": 37,
   "id": "9795d190",
   "metadata": {},
   "outputs": [],
   "source": [
    "from models.mask_model import Resnet34\n",
    "\n",
    "class JayCustomModel(nn.Module):\n",
    "    def __init__(self):\n",
    "        super().__init__()\n",
    "\n",
    "        self.model_wear = Resnet34(num_classes=2)\n",
    "        self.model_correct = Resnet34(num_classes=2)\n",
    "        self.wear_path = '/data/ephemeral/home/project/repo/level1-imageclassification-cv-06/best_model/mask_model_wear_notwear.pth'\n",
    "        self.correct_path = '/data/ephemeral/home/project/repo/level1-imageclassification-cv-06/best_model/mask_model_correct_incorrect.pth'\n",
    "\n",
    "        # 모델 가중치를 로드한다.\n",
    "        self.model_wear.load_state_dict(torch.load(self.wear_path, map_location=device))\n",
    "        self.model_correct.load_state_dict(torch.load(self.correct_path, map_location=device))\n",
    "\n",
    "\n",
    "    def forward(self, x):\n",
    "        x1 = self.model_wear(x)\n",
    "        x1 = torch.argmax(x1, -1)\n",
    "\n",
    "        for i in range(len(x1)):\n",
    "            if x1[i] == 1: #쓴 경우\n",
    "                x2 = self.model_correct(x[i].unsqueeze(0))\n",
    "                x2 = torch.argmax(x2, -1)\n",
    "                if x2[0] == 0: #마스크가 정상인 경우\n",
    "                    x1[i] = 0\n",
    "                else:\n",
    "                    x1[i] = 1\n",
    "            else: #안쓴 경우\n",
    "                x1[i] = 2\n",
    "        return x1"
   ]
  },
  {
   "cell_type": "code",
   "execution_count": 43,
   "id": "e3b4f34b",
   "metadata": {},
   "outputs": [
    {
     "name": "stderr",
     "output_type": "stream",
     "text": [
      "/data/ephemeral/home/jae-env/lib/python3.10/site-packages/torchvision/models/_utils.py:208: UserWarning: The parameter 'pretrained' is deprecated since 0.13 and will be removed in 0.15, please use 'weights' instead.\n",
      "  warnings.warn(\n",
      "/data/ephemeral/home/jae-env/lib/python3.10/site-packages/torchvision/models/_utils.py:223: UserWarning: Arguments other than a weight enum or `None` for 'weights' are deprecated since 0.13 and will be removed in 0.15. The current behavior is equivalent to passing `weights=ResNet34_Weights.IMAGENET1K_V1`. You can also use `weights=ResNet34_Weights.DEFAULT` to get the most up-to-date weights.\n",
      "  warnings.warn(msg)\n",
      "100%|██████████| 2/2 [00:03<00:00,  1.55s/it]\n"
     ]
    }
   ],
   "source": [
    "model = JayCustomModel().cuda()\n",
    "\n",
    "model.eval()\n",
    "\n",
    "labels = []\n",
    "preds = []\n",
    "for epoch in tqdm(range(2)):\n",
    "    for index, batch in enumerate(mask_loader):\n",
    "        image, label = batch\n",
    "        image = image.cuda()\n",
    "        label = label.long().cuda()\n",
    "        labels.extend(label.cpu().numpy())\n",
    "        pred = model(image)\n",
    "        preds.extend(pred.cpu().numpy())\n",
    "        if index > 5:\n",
    "            break\n",
    "\n"
   ]
  },
  {
   "cell_type": "code",
   "execution_count": 44,
   "id": "df5d11a8",
   "metadata": {},
   "outputs": [
    {
     "name": "stdout",
     "output_type": "stream",
     "text": [
      "Recall: 0.9771510641075859\n",
      "f1: 0.9663356787444378\n",
      "Confusion Matrix:\n",
      "[[204   3   0]\n",
      " [  0  35   2]\n",
      " [  0   0  36]]\n"
     ]
    }
   ],
   "source": [
    "recall = recall_score(labels, preds, average='macro')\n",
    "f1 = f1_score(labels, preds, average='macro')\n",
    "conf_matrix = confusion_matrix(labels, preds)\n",
    "\n",
    "print(\"Recall:\", recall)\n",
    "print(\"f1:\", f1)\n",
    "print(\"Confusion Matrix:\")\n",
    "print(conf_matrix)"
   ]
  },
  {
   "cell_type": "code",
   "execution_count": null,
   "id": "297e54b7",
   "metadata": {},
   "outputs": [],
   "source": []
  }
 ],
 "metadata": {
  "kernelspec": {
   "display_name": "Python 3",
   "language": "python",
   "name": "python3"
  },
  "language_info": {
   "codemirror_mode": {
    "name": "ipython",
    "version": 3
   },
   "file_extension": ".py",
   "mimetype": "text/x-python",
   "name": "python",
   "nbconvert_exporter": "python",
   "pygments_lexer": "ipython3",
   "version": "3.10.13"
  }
 },
 "nbformat": 4,
 "nbformat_minor": 5
}
